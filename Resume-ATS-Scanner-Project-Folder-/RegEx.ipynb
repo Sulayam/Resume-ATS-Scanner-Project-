{
 "cells": [
  {
   "cell_type": "code",
   "execution_count": 1,
   "id": "365e45f2",
   "metadata": {},
   "outputs": [
    {
     "name": "stdout",
     "output_type": "stream",
     "text": [
      "regex\n"
     ]
    }
   ],
   "source": [
    "import numpy as np\n",
    "import matplotlib.pyplot as plt\n",
    "import pandas as pd\n",
    "import re\n",
    "\n",
    "\n",
    "print(\"regex\")"
   ]
  },
  {
   "cell_type": "code",
   "execution_count": 2,
   "id": "5ccb66ac",
   "metadata": {},
   "outputs": [],
   "source": [
    "test_string = \"1234abc5678abc91011ABC\"\n",
    "pattern = re.compile(r\"123\") #Find out how we know if LHS can be object or someting else depending on the context"
   ]
  },
  {
   "cell_type": "code",
   "execution_count": 3,
   "id": "99657af7",
   "metadata": {},
   "outputs": [
    {
     "name": "stdout",
     "output_type": "stream",
     "text": [
      "<re.Match object; span=(0, 3), match='123'>\n"
     ]
    }
   ],
   "source": [
    "# METHODS TO SEARCH FOR MACTHES IN test_string\n",
    "# 1.finditer method of pattern Object from re.Pattern class\n",
    "matches = pattern.finditer(test_string)\n",
    "\n",
    "for mac in matches:\n",
    "    print(mac)"
   ]
  },
  {
   "cell_type": "code",
   "execution_count": 4,
   "id": "a32a1f00",
   "metadata": {},
   "outputs": [
    {
     "name": "stdout",
     "output_type": "stream",
     "text": [
      "123\n"
     ]
    }
   ],
   "source": [
    "# 2.findall method of pattern Object from re.Pattern class\n",
    "matches = pattern.findall(test_string)\n",
    "\n",
    "for mac in matches:\n",
    "    print(mac)"
   ]
  },
  {
   "cell_type": "code",
   "execution_count": 5,
   "id": "f2130361",
   "metadata": {},
   "outputs": [
    {
     "name": "stdout",
     "output_type": "stream",
     "text": [
      "<re.Match object; span=(0, 3), match='123'>\n"
     ]
    }
   ],
   "source": [
    "# 3.match method of pattern Object from re.Pattern class\n",
    "#... macthes only if the pattern is in the beginning of the test_string\n",
    "matches = pattern.match(test_string)\n",
    "\n",
    "print(matches)"
   ]
  },
  {
   "cell_type": "code",
   "execution_count": 7,
   "id": "48818bb2",
   "metadata": {},
   "outputs": [
    {
     "name": "stdout",
     "output_type": "stream",
     "text": [
      "<re.Match object; span=(0, 3), match='123'>\n"
     ]
    }
   ],
   "source": [
    "# 4.search method of pattern Object from re.Pattern class\n",
    "matches = pattern.search(test_string)\n",
    "\n",
    "print(matches)"
   ]
  },
  {
   "cell_type": "markdown",
   "id": "1e8d3e81",
   "metadata": {},
   "source": [
    "Character Classes\n"
   ]
  },
  {
   "cell_type": "markdown",
   "id": "ab9d7031",
   "metadata": {},
   "source": [
    "1. \\d : Matches digits only; [0-9]\n",
    "2. \\D : Matches non-digit characters\n",
    "3. \\s : Matches any whitespace character; (space \" \" tab \"\\t\" newline \"\\n\")\n",
    "4. \\S : Matches any non-whitespace character; \n",
    "5. \\w : Matches any alphanumeric (word) character; [a-zA-Z0-9_]\n",
    "6. \\W : Matches any non-alphanumeric character\n",
    "7. \\b : Matches where specified characters are at the beginning or end ... etc\n",
    "8. \\B : Matches where specified characters are present, but NOT begining or end ... etc"
   ]
  },
  {
   "cell_type": "markdown",
   "id": "17ea7aab",
   "metadata": {},
   "source": [
    "Basic Characters\n",
    "\n",
    "Expression \t\n",
    "Explanations\n",
    "\n",
    "[] - set\n",
    "^ - Matches the expression to its right, at the start of a string before it experiences a line break\n",
    "$ - Matches the expression to its left, at the end of a string before it experiences a line break\n",
    ". - Matches any character except newline\n",
    "a - Matches exactly one character a\n",
    "xy - Matches the string xy\n",
    "a|b - Matches expression a or b. If a is matched first, b is left untried."
   ]
  },
  {
   "cell_type": "markdown",
   "id": "342a30da",
   "metadata": {},
   "source": [
    "Quantifiers"
   ]
  },
  {
   "cell_type": "markdown",
   "id": "db073dfe",
   "metadata": {},
   "source": [
    "* - 0 or more\n",
    "+ - 1 or more\n",
    "? - 0 or 1, optional character\n",
    "{4} - exact range\n",
    "{4,6} - range of numbers {min,max}"
   ]
  },
  {
   "cell_type": "code",
   "execution_count": 8,
   "id": "d505fe80",
   "metadata": {},
   "outputs": [
    {
     "name": "stdout",
     "output_type": "stream",
     "text": [
      "<re.Match object; span=(5, 7), match='12'>\n",
      "<re.Match object; span=(10, 11), match='5'>\n",
      "<re.Match object; span=(14, 17), match='696'>\n",
      "<re.Match object; span=(22, 23), match='7'>\n",
      "<re.Match object; span=(35, 37), match='12'>\n",
      "<re.Match object; span=(44, 45), match='3'>\n"
     ]
    }
   ],
   "source": [
    "test_2 = \"adkua12jd_5n_e696wid__7\\tx_adx adoin12ad asas3\"\n",
    "pattern = re.compile(r'\\d{1,3}')\n",
    "matches = pattern.finditer(test_2)\n",
    "\n",
    "for i in matches:\n",
    "    print(i)    "
   ]
  },
  {
   "cell_type": "markdown",
   "id": "509b1f28",
   "metadata": {},
   "source": [
    ". Any character (except newline character) \"he..o\"\n",
    "^ Starts with \"^hello\"\n",
    "\\$ Ends with \"world\\$\"\n",
    "* Zero or more occurrences \"aix*\"\n",
    "+ One or more occurrences \"aix+\"\n",
    "{ } Exactly the specified number of occurrences \"al{2}\"\n",
    "[] A set of characters \"[a-m]\"\n",
    "\\ Signals a special sequence (can also be used to escape special characters) \"\\d\"\n",
    "| Either or \"falls|stays\"\n",
    "( ) Capture and group"
   ]
  },
  {
   "cell_type": "code",
   "execution_count": 43,
   "id": "d12fffbf",
   "metadata": {},
   "outputs": [
    {
     "name": "stdout",
     "output_type": "stream",
     "text": [
      "<re.Match object; span=(15, 16), match='.'>\n"
     ]
    }
   ],
   "source": [
    "test_string = 'python-engineer.com'\n",
    "pattern = re.compile(r'\\.')\n",
    "matches = pattern.finditer(test_string)\n",
    "for match in matches:\n",
    "    print(match)"
   ]
  },
  {
   "cell_type": "markdown",
   "id": "062711e8",
   "metadata": {},
   "source": [
    "Methods on a Match object¶\n",
    "group(): Return the string matched by the RE\n",
    "start(): Return the starting position of the match\n",
    "end(): Return the ending position of the match\n",
    "span(): Return a tuple containing the (start, end) positions of the match"
   ]
  },
  {
   "cell_type": "markdown",
   "id": "1b9fa660",
   "metadata": {},
   "source": [
    "Split and Sub"
   ]
  },
  {
   "cell_type": "code",
   "execution_count": 10,
   "id": "fa15b278",
   "metadata": {},
   "outputs": [
    {
     "name": "stdout",
     "output_type": "stream",
     "text": [
      "['uek4238', 'aujjnald', 'audhah', 'udnkuh']\n"
     ]
    }
   ],
   "source": [
    "test_3 = \"uek4238abcaujjnaldabcaudhahabcudnkuh\"\n",
    "pattern_3 = re.compile(r\"abc\")\n",
    "splitted = pattern_3.split(test_3)\n",
    "print(splitted)"
   ]
  },
  {
   "cell_type": "code",
   "execution_count": 11,
   "id": "bac11548",
   "metadata": {},
   "outputs": [
    {
     "name": "stdout",
     "output_type": "stream",
     "text": [
      "hello cock, you are the best cock\n"
     ]
    }
   ],
   "source": [
    "test4 = 'hello world, you are the best world'\n",
    "pattern4 = re.compile(r\"world\")\n",
    "subbed = pattern4.sub(\"cock\",test4)\n",
    "print(subbed)"
   ]
  },
  {
   "cell_type": "code",
   "execution_count": 45,
   "id": "b614c7df",
   "metadata": {},
   "outputs": [
    {
     "name": "stdout",
     "output_type": "stream",
     "text": [
      "('', 'python-engineer', '.com')\n",
      "('www.', 'python-engineer', '.com')\n",
      "('www.', 'pyeng', '.net')\n",
      "\n",
      "gay\n",
      "gay\n",
      "gay\n",
      "\n"
     ]
    }
   ],
   "source": [
    "urls=\"\"\"\n",
    "http://python-engineer.com\n",
    "https://www.python-engineer.com\n",
    "http://www.pyeng.net\n",
    "\"\"\"\n",
    "pattern = re.compile(r\"https?://(www\\.)?([a-zA-Z-]+)(\\.[a-z]+)\")\n",
    "matcher = pattern.findall(urls)\n",
    "\n",
    "for i in matcher:\n",
    "    print(i)\n",
    "    \n",
    "subbed_urls = pattern.sub(r\"gay\",urls)\n",
    "print(subbed_urls)"
   ]
  },
  {
   "cell_type": "markdown",
   "id": "102a9170",
   "metadata": {},
   "source": [
    "Compilation Flags¶\n",
    "ASCII, A : Makes several escapes like \\w, \\b, \\s and \\d match only on ASCII characters with the respective property.\n",
    "DOTALL, S : Make . match any character, including newlines.\n",
    "IGNORECASE, I : Do case-insensitive matches.\n",
    "LOCALE, L : Do a locale-aware match.\n",
    "MULTILINE, M : Multi-line matching, affecting ^ and $.\n",
    "VERBOSE, X (for ‘extended’) : Enable verbose REs, which can be organized more cleanly and understandably."
   ]
  },
  {
   "cell_type": "code",
   "execution_count": 44,
   "id": "b2946299",
   "metadata": {},
   "outputs": [
    {
     "name": "stdout",
     "output_type": "stream",
     "text": [
      "<re.Match object; span=(6, 11), match='World'>\n",
      "<re.Match object; span=(1, 2), match='h'>\n",
      "<re.Match object; span=(7, 8), match='c'>\n"
     ]
    }
   ],
   "source": [
    "my_string = \"Hello World\"\n",
    "pattern = re.compile(r'world', re.IGNORECASE) # No match without I flag\n",
    "matches = pattern.finditer(my_string)\n",
    "for match in matches:\n",
    "    print(match)\n",
    "\n",
    "my_string = '''\n",
    "hello\n",
    "cool\n",
    "Hello\n",
    "'''\n",
    "# line starts with ...\n",
    "pattern = re.compile(r'^[a-z]', re.MULTILINE) # No match without M flag\n",
    "matches = pattern.finditer(my_string)\n",
    "for match in matches:\n",
    "    print(match)"
   ]
  },
  {
   "cell_type": "code",
   "execution_count": null,
   "id": "6ead9e48",
   "metadata": {},
   "outputs": [],
   "source": []
  }
 ],
 "metadata": {
  "kernelspec": {
   "display_name": "Python 3 (ipykernel)",
   "language": "python",
   "name": "python3"
  },
  "language_info": {
   "codemirror_mode": {
    "name": "ipython",
    "version": 3
   },
   "file_extension": ".py",
   "mimetype": "text/x-python",
   "name": "python",
   "nbconvert_exporter": "python",
   "pygments_lexer": "ipython3",
   "version": "3.11.7"
  }
 },
 "nbformat": 4,
 "nbformat_minor": 5
}
